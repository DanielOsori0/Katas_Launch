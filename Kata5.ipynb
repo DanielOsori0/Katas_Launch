{
 "cells": [
  {
   "cell_type": "markdown",
   "metadata": {},
   "source": [
    "## Kata 5\n"
   ]
  },
  {
   "cell_type": "code",
   "execution_count": 4,
   "metadata": {},
   "outputs": [
    {
     "name": "stdout",
     "output_type": "stream",
     "text": [
      "628949330\n",
      "390577533.93\n"
     ]
    }
   ],
   "source": [
    "#Tierra (149.597.870 km) y Júpiter (778.547.200 km).\n",
    "tierra = 149597870 \n",
    "jupiter = 778547200\n",
    "\n",
    "distancia = abs(int(tierra)-int(jupiter))\n",
    "print(distancia)\n",
    "dist_mill = 0.621 * distancia\n",
    "print(dist_mill)"
   ]
  },
  {
   "cell_type": "markdown",
   "metadata": {},
   "source": [
    "## Ejercicio 2\n"
   ]
  },
  {
   "cell_type": "code",
   "execution_count": 6,
   "metadata": {},
   "outputs": [
    {
     "name": "stdout",
     "output_type": "stream",
     "text": [
      "La distancia en km es 50300000\n",
      "La distancia en mill es 31236300.0\n"
     ]
    }
   ],
   "source": [
    "first_planet = input('Introduzca la distancia del sol para el primer planeta en KM')\n",
    "second_planet = input('Introduzca la distancia desde el sol para el segundo planeta en KM')\n",
    "\n",
    "dist_km = abs(int(first_planet)-int(second_planet))\n",
    "dist_mill = dist_km * 0.621\n",
    "print(\"La distancia en km es \"+ str(dist_km))\n",
    "print(\"La distancia en mill es \"+ str(dist_mill))"
   ]
  }
 ],
 "metadata": {
  "interpreter": {
   "hash": "1788d8064ef44f8579db30d667e98aa15b02272138e97a5c9ac4db614b5082f2"
  },
  "kernelspec": {
   "display_name": "Python 3.10.0 64-bit",
   "language": "python",
   "name": "python3"
  },
  "language_info": {
   "codemirror_mode": {
    "name": "ipython",
    "version": 3
   },
   "file_extension": ".py",
   "mimetype": "text/x-python",
   "name": "python",
   "nbconvert_exporter": "python",
   "pygments_lexer": "ipython3",
   "version": "3.10.0"
  },
  "orig_nbformat": 4
 },
 "nbformat": 4,
 "nbformat_minor": 2
}
