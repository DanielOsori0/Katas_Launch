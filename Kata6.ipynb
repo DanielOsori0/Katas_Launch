{
 "cells": [
  {
   "cell_type": "markdown",
   "metadata": {},
   "source": [
    "## Kata 6"
   ]
  },
  {
   "cell_type": "code",
   "execution_count": 8,
   "metadata": {},
   "outputs": [
    {
     "name": "stdout",
     "output_type": "stream",
     "text": [
      " Existen 8 planetas en el sistema solar\n",
      "Pluton  es el ultimo planeta\n"
     ]
    }
   ],
   "source": [
    "# planetas\n",
    "planets = [\"Mercurio\", \"Venus\", \"Tierra\", \"Marte\", \"Júpiter\", \"Saturno\", \"Urano\", \"Neptuno\"]\n",
    "print(\" Existen \"+str(len(planets))+\" planetas en el sistema solar\")\n",
    "\n",
    "planets.append(\"Pluton\")\n",
    "print(planets[-1], \" es el ultimo planeta\")"
   ]
  },
  {
   "cell_type": "markdown",
   "metadata": {},
   "source": [
    "## Ejercicio 2"
   ]
  },
  {
   "cell_type": "code",
   "execution_count": 11,
   "metadata": {},
   "outputs": [
    {
     "name": "stdout",
     "output_type": "stream",
     "text": [
      "2\n",
      "Aqui los planetas mas cercanos a Tierra\n",
      "['Mercurio', 'Venus']\n",
      "Aqui os planetas mas lejanos a Tierra\n",
      "['Marte', 'Júpiter', 'Saturno', 'Urano', 'Neptuno']\n"
     ]
    }
   ],
   "source": [
    "\n",
    "planets = [\"Mercurio\", \"Venus\", \"Tierra\", \"Marte\", \"Júpiter\", \"Saturno\", \"Urano\", \"Neptuno\"]\n",
    "\n",
    "planet_user = input(\"Ingresa un planeta(con mayuscula la primer letra)\")\n",
    "planet_ind = planets.index(planet_user)\n",
    "print(planet_ind)\n",
    "\n",
    "print('Aqui los planetas mas cercanos a ' + planet_user)\n",
    "print(planets[0:planet_ind])\n",
    "\n",
    "print('Aqui os planetas mas lejanos a ' + planet_user)\n",
    "print(planets[planet_ind + 1:])"
   ]
  }
 ],
 "metadata": {
  "interpreter": {
   "hash": "1788d8064ef44f8579db30d667e98aa15b02272138e97a5c9ac4db614b5082f2"
  },
  "kernelspec": {
   "display_name": "Python 3.10.0 64-bit",
   "language": "python",
   "name": "python3"
  },
  "language_info": {
   "codemirror_mode": {
    "name": "ipython",
    "version": 3
   },
   "file_extension": ".py",
   "mimetype": "text/x-python",
   "name": "python",
   "nbconvert_exporter": "python",
   "pygments_lexer": "ipython3",
   "version": "3.10.0"
  },
  "orig_nbformat": 4
 },
 "nbformat": 4,
 "nbformat_minor": 2
}
