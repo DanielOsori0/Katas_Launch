{
 "cells": [
  {
   "cell_type": "markdown",
   "metadata": {},
   "source": [
    "## KATA7\n"
   ]
  },
  {
   "cell_type": "code",
   "execution_count": 3,
   "metadata": {},
   "outputs": [
    {
     "name": "stdout",
     "output_type": "stream",
     "text": [
      "[' ', 'venus', 'tierra', 'jupiter', 'saturno', 'urano', 'tierra']\n",
      "[' ', 'venus', 'tierra', 'jupiter', 'saturno', 'urano', 'tierra']\n",
      "[' ', 'venus', 'tierra', 'jupiter', 'saturno', 'urano', 'tierra']\n",
      "[' ', 'venus', 'tierra', 'jupiter', 'saturno', 'urano', 'tierra']\n",
      "[' ', 'venus', 'tierra', 'jupiter', 'saturno', 'urano', 'tierra']\n",
      "[' ', 'venus', 'tierra', 'jupiter', 'saturno', 'urano', 'tierra']\n",
      "[' ', 'venus', 'tierra', 'jupiter', 'saturno', 'urano', 'tierra']\n"
     ]
    }
   ],
   "source": [
    "planet_user = \"\"\n",
    "\n",
    "planets = []\n",
    "while planet_user.upper() != \"SALIR\":\n",
    "    if planet_user:\n",
    "        planets.append(planet_user)\n",
    "        #print(planets)\n",
    "    planet_user =  input(\"Ingresa el nombre de un planeta(si terminaste escribe SALIR) \")\n",
    "\n",
    "for planet_user in planets:\n",
    "    print(planets)"
   ]
  }
 ],
 "metadata": {
  "interpreter": {
   "hash": "1788d8064ef44f8579db30d667e98aa15b02272138e97a5c9ac4db614b5082f2"
  },
  "kernelspec": {
   "display_name": "Python 3.10.0 64-bit",
   "language": "python",
   "name": "python3"
  },
  "language_info": {
   "codemirror_mode": {
    "name": "ipython",
    "version": 3
   },
   "file_extension": ".py",
   "mimetype": "text/x-python",
   "name": "python",
   "nbconvert_exporter": "python",
   "pygments_lexer": "ipython3",
   "version": "3.10.0"
  },
  "orig_nbformat": 4
 },
 "nbformat": 4,
 "nbformat_minor": 2
}
