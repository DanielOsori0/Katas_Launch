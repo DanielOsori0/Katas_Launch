{
 "cells": [
  {
   "cell_type": "code",
   "execution_count": 3,
   "metadata": {},
   "outputs": [
    {
     "name": "stdout",
     "output_type": "stream",
     "text": [
      "¡Sigue con tu día!\n"
     ]
    }
   ],
   "source": [
    "asteroide = 22\n",
    "if asteroide > 25:\n",
    "    print('¡Alerta! ¡Un asteroide se acerca a velocidades peligrosas!')\n",
    "    velocidad = asteroide\n",
    "    x=1\n",
    "else:\n",
    "    print('¡Sigue con tu día!')\n",
    "    x=0\n",
    "\n",
    "if x == 1:\n",
    "    print(\"instrucciones destruir el asteroide\")\n",
    "    "
   ]
  },
  {
   "cell_type": "markdown",
   "metadata": {},
   "source": [
    "## dos\n"
   ]
  },
  {
   "cell_type": "code",
   "execution_count": 6,
   "metadata": {},
   "outputs": [
    {
     "name": "stdout",
     "output_type": "stream",
     "text": [
      "mira arriba!! hay luz\n"
     ]
    }
   ],
   "source": [
    "asteroide = 20\n",
    "if asteroide > 20:\n",
    "    print(\"mira arriba!! hay luz\")\n",
    "elif asteroide == 20:\n",
    "    print(\"mira arriba!! hay luz\")\n",
    "else:\n",
    "    print(\"no hay nada que ver :(\")    "
   ]
  },
  {
   "cell_type": "markdown",
   "metadata": {},
   "source": [
    "## tres\n"
   ]
  },
  {
   "cell_type": "code",
   "execution_count": 12,
   "metadata": {},
   "outputs": [
    {
     "name": "stdout",
     "output_type": "stream",
     "text": [
      "mira arriba y peligro se acerca a la tierra\n"
     ]
    }
   ],
   "source": [
    "velocidad = 40\n",
    "tamaño = 12\n",
    "\n",
    "# si el tamaño es > 10 o su velocidad es mayor a 22 se podra ver \n",
    "if tamaño > 10 and velocidad >22:\n",
    "    print(\"mira arriba y peligro se acerca a la tierra\")\n",
    "elif velocidad >= 22:\n",
    "    print(\"mira arriba\")\n",
    "else:\n",
    "    print(\"nada que ver\")\n"
   ]
  }
 ],
 "metadata": {
  "interpreter": {
   "hash": "1788d8064ef44f8579db30d667e98aa15b02272138e97a5c9ac4db614b5082f2"
  },
  "kernelspec": {
   "display_name": "Python 3.10.0 64-bit",
   "language": "python",
   "name": "python3"
  },
  "language_info": {
   "codemirror_mode": {
    "name": "ipython",
    "version": 3
   },
   "file_extension": ".py",
   "mimetype": "text/x-python",
   "name": "python",
   "nbconvert_exporter": "python",
   "pygments_lexer": "ipython3",
   "version": "3.10.0"
  },
  "orig_nbformat": 4
 },
 "nbformat": 4,
 "nbformat_minor": 2
}
